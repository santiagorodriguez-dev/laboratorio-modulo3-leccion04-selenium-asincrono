{
 "cells": [
  {
   "cell_type": "code",
   "execution_count": 1,
   "metadata": {},
   "outputs": [],
   "source": [
    "# Importamos las librerías que necesitamos\n",
    "# Beautifulsoup\n",
    "from bs4 import BeautifulSoup\n",
    "\n",
    "# Requests\n",
    "import requests\n",
    "\n",
    "import pandas as pd\n",
    "import numpy as np\n",
    "\n",
    "from time import sleep\n",
    "\n",
    "# Importar librerías para automatización de navegadores web con Selenium\n",
    "# -----------------------------------------------------------------------\n",
    "from selenium import webdriver  # Selenium es una herramienta para automatizar la interacción con navegadores web.\n",
    "from webdriver_manager.chrome import ChromeDriverManager  # ChromeDriverManager gestiona la instalación del controlador de Chrome.\n",
    "from selenium.webdriver.common.keys import Keys  # Keys es útil para simular eventos de teclado en Selenium.\n",
    "from selenium.webdriver.support.ui import Select  # Select se utiliza para interactuar con elementos <select> en páginas web.\n",
    "from selenium.webdriver.support.ui import WebDriverWait\n",
    "from selenium.webdriver.support import expected_conditions as EC\n",
    "from selenium.common.exceptions import NoSuchElementException # Excepciones comunes de selenium que nos podemos encontrar "
   ]
  },
  {
   "cell_type": "code",
   "execution_count": 2,
   "metadata": {},
   "outputs": [],
   "source": [
    "df = pd.read_csv(\"../data/datos_con_geoposicion.csv\", index_col = 0)"
   ]
  },
  {
   "cell_type": "code",
   "execution_count": 3,
   "metadata": {},
   "outputs": [],
   "source": [
    "lista_datos = df.values.tolist()"
   ]
  },
  {
   "cell_type": "code",
   "execution_count": 4,
   "metadata": {},
   "outputs": [
    {
     "data": {
      "text/plain": [
       "['acebeda-la', 41.0869583, -3.624399]"
      ]
     },
     "execution_count": 4,
     "metadata": {},
     "output_type": "execute_result"
    }
   ],
   "source": [
    "lista_datos[0]"
   ]
  },
  {
   "cell_type": "code",
   "execution_count": 5,
   "metadata": {},
   "outputs": [],
   "source": [
    "example = \"https://www.wunderground.com/history/monthly/es/madrid/IALCOR16/date/2024-08\""
   ]
  },
  {
   "cell_type": "code",
   "execution_count": 6,
   "metadata": {},
   "outputs": [],
   "source": [
    "driver = webdriver.Chrome()\n",
    "url_wunder = \"https://www.wunderground.com/history\"\n",
    "\n",
    "driver.get(url_wunder)\n",
    "driver.maximize_window()"
   ]
  },
  {
   "cell_type": "code",
   "execution_count": 7,
   "metadata": {},
   "outputs": [],
   "source": [
    "iframe_cookies =WebDriverWait(driver,10).until(EC.presence_of_element_located(('xpath','//*[@id=\"sp_message_iframe_1165301\"]')))\n",
    "driver.switch_to.frame(iframe_cookies)\n",
    "\n",
    "try:\n",
    "     driver.implicitly_wait(5)\n",
    "     driver.find_element(\"css selector\", \"#notice > div.message-component.message-row.cta-buttons-container > div.message-component.message-column.cta-button-column.reject-column > button\").click()\n",
    "except:\n",
    "     print(\"no encuentro el boton de cookies\")\n",
    "\n",
    "# busqueda inicial para poder coger los datos de todas las estaciones\n",
    "driver.switch_to.default_content()\n",
    "sleep(3)\n",
    "driver.find_element(\"css selector\", \"#historySearch\").send_keys(\"Madrid, Madrid, Spain\")\n",
    "sleep(3)\n",
    "driver.find_element(\"css selector\", \"#historySearch\").send_keys(Keys.ENTER)\n",
    "sleep(3)\n",
    "driver.find_element(\"css selector\", \"#dateSubmit\").click()\n",
    "sleep(3)\n",
    "driver.find_element(\"css selector\", \"#station-select-button\").click()\n",
    "sleep(10)\n",
    "#driver.find_element(\"css class\", \"#__900f1ed8-3deb-4519-9468-515394b86adc > lib-zoom-control > div\").click()\n",
    "#sleep(3)\n",
    "datos_raw_estaciones = driver.find_element(\"css selector\", \"#stationselector_table\")\n",
    "\n"
   ]
  },
  {
   "cell_type": "code",
   "execution_count": 8,
   "metadata": {},
   "outputs": [
    {
     "data": {
      "text/plain": [
       "['Alameda de Osuna (IMADRI364)',\n",
       " '71.4 °',\n",
       " 'Rejas (IMADRI763)',\n",
       " '72.9 °',\n",
       " 'Corralejos (IMADRI442)',\n",
       " '69.4 °',\n",
       " 'Rosas (IMADRI376)',\n",
       " '71.4 °',\n",
       " 'Barajas (IMADRI265)',\n",
       " '71.2 °',\n",
       " 'Palomas (IMADRI733)',\n",
       " '69.8 °',\n",
       " 'Madrid/Adolfo Suarez Madrid-Ba (LEMD)',\n",
       " '73.4 °',\n",
       " 'Simancas (IMADRI528)',\n",
       " '69.3 °',\n",
       " 'Coslada (ICOSLA10)',\n",
       " '72.3 °',\n",
       " 'Rosas (IMADRI479)',\n",
       " '69.3 °',\n",
       " 'Madrid (IMADRI62)',\n",
       " '70.5 °',\n",
       " 'Pinar del Rey (IMADRI682)',\n",
       " '73.7 °',\n",
       " 'Madrid (IMADRI56)',\n",
       " '72.1 °',\n",
       " 'Pueblo Nuevo (IMADRI454)',\n",
       " '70.1 °',\n",
       " 'San Fernando de Henares (ISANFE116)',\n",
       " '71.2 °',\n",
       " 'El Cañaveral neighborhood (IMADRI668)',\n",
       " '72 °',\n",
       " 'Valdefuentes (IMADRI593)',\n",
       " '71.1 °',\n",
       " 'Pueblo Nuevo (IMADRI626)',\n",
       " '70.7 °',\n",
       " 'Canillas (IMADRI707)',\n",
       " '71.6 °',\n",
       " 'Concepción (IMADRI595)',\n",
       " '70.9 °',\n",
       " 'Pinar del Rey (IMADRI416)',\n",
       " '70.1 °',\n",
       " 'Valdebebas (IMADRID342)',\n",
       " '74.7 °',\n",
       " 'Horcajo (IMADRI695)',\n",
       " '71.1 °',\n",
       " 'San Fernando de Henares (ISANFE84)',\n",
       " '73.6 °',\n",
       " 'El Cañaveral (IMADRI306)',\n",
       " '71.4 °',\n",
       " 'Paracuellos de Jarama (IPARAC71)',\n",
       " '72 °',\n",
       " 'Valdefuentes (IMADRI559)',\n",
       " '72.8 °',\n",
       " 'Media Legua (IMADRI458)',\n",
       " '72.1 °',\n",
       " 'Paracuellos de Jarama (IPARAC58)',\n",
       " '71.8 °',\n",
       " 'Torrejon (LETO)',\n",
       " '71.6 °']"
      ]
     },
     "execution_count": 8,
     "metadata": {},
     "output_type": "execute_result"
    }
   ],
   "source": [
    "d1 = datos_raw_estaciones.text.split(\"\\n\")\n",
    "d1"
   ]
  }
 ],
 "metadata": {
  "kernelspec": {
   "display_name": "Python 3",
   "language": "python",
   "name": "python3"
  },
  "language_info": {
   "codemirror_mode": {
    "name": "ipython",
    "version": 3
   },
   "file_extension": ".py",
   "mimetype": "text/x-python",
   "name": "python",
   "nbconvert_exporter": "python",
   "pygments_lexer": "ipython3",
   "version": "3.12.5"
  }
 },
 "nbformat": 4,
 "nbformat_minor": 2
}
